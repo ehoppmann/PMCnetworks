{
 "cells": [
  {
   "cell_type": "markdown",
   "metadata": {},
   "source": [
    "# in cites as compared to years since publication "
   ]
  },
  {
   "cell_type": "code",
   "execution_count": 1,
   "metadata": {
    "collapsed": true
   },
   "outputs": [],
   "source": [
    "import sqlite3\n",
    "import datetime\n",
    "conng = sqlite3.connect('pmcv1-graph.db')  # CHANGE TO v2 and rerun!\n",
    "cg = conng.cursor()\n",
    "connf = sqlite3.connect('pmcv2-full.db') \n",
    "cf = connf.cursor()"
   ]
  },
  {
   "cell_type": "code",
   "execution_count": 2,
   "metadata": {
    "collapsed": false
   },
   "outputs": [],
   "source": [
    "cf.execute('''SELECT DISTINCT pmid FROM meta''')\n",
    "pmids = cf.fetchall()\n",
    "for i in range(len(pmids)): pmids[i] = pmids[i][0]\n",
    "daysoutl = []\n",
    "numincitesl = []\n",
    "for pmid in pmids: #pmid = 24113773\n",
    "    cf.execute('''SELECT pubdate FROM meta WHERE pmid = ? ''', [pmid])\n",
    "    date = cf.fetchone()[0]\n",
    "    date = datetime.date(int(date[0:4]), int(date[5:7]), int(date[8:10]))\n",
    "    daysout = abs((date - datetime.date(2016,6,1)).days) # days between pub and data being fetched\n",
    "    if daysout > 0:\n",
    "        daysoutl.append(daysout)\n",
    "        cg.execute('''SELECT incites FROM cites WHERE pmid = ? ''', [pmid])\n",
    "        incites = len(cg.fetchone()[0].split(','))\n",
    "        numincitesl.append(incites)"
   ]
  },
  {
   "cell_type": "code",
   "execution_count": 3,
   "metadata": {
    "collapsed": true
   },
   "outputs": [],
   "source": [
    "#plots\n",
    "%matplotlib inline\n",
    "import matplotlib.pyplot as plt\n",
    "import numpy as np\n",
    "import pandas as pd"
   ]
  },
  {
   "cell_type": "code",
   "execution_count": 4,
   "metadata": {
    "collapsed": false
   },
   "outputs": [],
   "source": [
    "citedaysratio = pd.DataFrame(np.array(map(float,numincitesl)) / np.array(daysoutl))"
   ]
  },
  {
   "cell_type": "code",
   "execution_count": 5,
   "metadata": {
    "collapsed": false
   },
   "outputs": [
    {
     "data": {
      "text/html": [
       "<div>\n",
       "<table border=\"1\" class=\"dataframe\">\n",
       "  <thead>\n",
       "    <tr style=\"text-align: right;\">\n",
       "      <th></th>\n",
       "      <th>0</th>\n",
       "    </tr>\n",
       "  </thead>\n",
       "  <tbody>\n",
       "    <tr>\n",
       "      <th>count</th>\n",
       "      <td>347948.000000</td>\n",
       "    </tr>\n",
       "    <tr>\n",
       "      <th>mean</th>\n",
       "      <td>0.005236</td>\n",
       "    </tr>\n",
       "    <tr>\n",
       "      <th>std</th>\n",
       "      <td>0.013767</td>\n",
       "    </tr>\n",
       "    <tr>\n",
       "      <th>min</th>\n",
       "      <td>0.000194</td>\n",
       "    </tr>\n",
       "    <tr>\n",
       "      <th>25%</th>\n",
       "      <td>0.001587</td>\n",
       "    </tr>\n",
       "    <tr>\n",
       "      <th>50%</th>\n",
       "      <td>0.002841</td>\n",
       "    </tr>\n",
       "    <tr>\n",
       "      <th>75%</th>\n",
       "      <td>0.005291</td>\n",
       "    </tr>\n",
       "    <tr>\n",
       "      <th>max</th>\n",
       "      <td>2.675676</td>\n",
       "    </tr>\n",
       "  </tbody>\n",
       "</table>\n",
       "</div>"
      ],
      "text/plain": [
       "                   0\n",
       "count  347948.000000\n",
       "mean        0.005236\n",
       "std         0.013767\n",
       "min         0.000194\n",
       "25%         0.001587\n",
       "50%         0.002841\n",
       "75%         0.005291\n",
       "max         2.675676"
      ]
     },
     "execution_count": 5,
     "metadata": {},
     "output_type": "execute_result"
    }
   ],
   "source": [
    "citedaysratio.describe()"
   ]
  },
  {
   "cell_type": "code",
   "execution_count": 6,
   "metadata": {
    "collapsed": false
   },
   "outputs": [
    {
     "data": {
      "text/plain": [
       "(array([  3.30488000e+05,   1.16440000e+04,   3.48900000e+03,\n",
       "          1.07900000e+03,   4.91000000e+02,   2.97000000e+02,\n",
       "          1.90000000e+02,   7.90000000e+01,   6.60000000e+01,\n",
       "          1.10000000e+01,   2.00000000e+01,   1.20000000e+01,\n",
       "          8.00000000e+00,   8.00000000e+00,   1.00000000e+01,\n",
       "          4.00000000e+00,   1.00000000e+00,   1.00000000e+00,\n",
       "          3.00000000e+00,   3.00000000e+00,   2.00000000e+00,\n",
       "          4.00000000e+00,   0.00000000e+00,   1.00000000e+00,\n",
       "          2.00000000e+00,   0.00000000e+00,   0.00000000e+00,\n",
       "          1.00000000e+00,   2.00000000e+00,   3.00000000e+00,\n",
       "          0.00000000e+00,   0.00000000e+00,   0.00000000e+00,\n",
       "          0.00000000e+00,   2.00000000e+00,   1.00000000e+00,\n",
       "          1.00000000e+00,   2.00000000e+00,   1.00000000e+00,\n",
       "          0.00000000e+00,   0.00000000e+00,   1.00000000e+00,\n",
       "          0.00000000e+00,   0.00000000e+00,   0.00000000e+00,\n",
       "          0.00000000e+00,   0.00000000e+00,   0.00000000e+00,\n",
       "          0.00000000e+00,   2.10000000e+01]),\n",
       " array([  1.94439043e-04,   1.61905503e-02,   3.21866615e-02,\n",
       "          4.81827727e-02,   6.41788839e-02,   8.01749951e-02,\n",
       "          9.61711064e-02,   1.12167218e-01,   1.28163329e-01,\n",
       "          1.44159440e-01,   1.60155551e-01,   1.76151662e-01,\n",
       "          1.92147774e-01,   2.08143885e-01,   2.24139996e-01,\n",
       "          2.40136107e-01,   2.56132219e-01,   2.72128330e-01,\n",
       "          2.88124441e-01,   3.04120552e-01,   3.20116663e-01,\n",
       "          3.36112775e-01,   3.52108886e-01,   3.68104997e-01,\n",
       "          3.84101108e-01,   4.00097220e-01,   4.16093331e-01,\n",
       "          4.32089442e-01,   4.48085553e-01,   4.64081664e-01,\n",
       "          4.80077776e-01,   4.96073887e-01,   5.12069998e-01,\n",
       "          5.28066109e-01,   5.44062220e-01,   5.60058332e-01,\n",
       "          5.76054443e-01,   5.92050554e-01,   6.08046665e-01,\n",
       "          6.24042777e-01,   6.40038888e-01,   6.56034999e-01,\n",
       "          6.72031110e-01,   6.88027221e-01,   7.04023333e-01,\n",
       "          7.20019444e-01,   7.36015555e-01,   7.52011666e-01,\n",
       "          7.68007778e-01,   7.84003889e-01,   8.00000000e-01]),\n",
       " <a list of 50 Patch objects>)"
      ]
     },
     "execution_count": 6,
     "metadata": {},
     "output_type": "execute_result"
    },
    {
     "data": {
      "image/png": "[encoded data removed]",
      "text/plain": [
       "<matplotlib.figure.Figure at 0x10d435d50>"
      ]
     },
     "metadata": {},
     "output_type": "display_data"
    }
   ],
   "source": [
    "plt.hist(citedaysratio.clip_upper(.8), log = True, bins = 50)"
   ]
  },
  {
   "cell_type": "code",
   "execution_count": 7,
   "metadata": {
    "collapsed": false
   },
   "outputs": [],
   "source": [
    "counts, div = np.histogram(citedaysratio, bins = 200, range = (0,0.1))"
   ]
  },
  {
   "cell_type": "code",
   "execution_count": 8,
   "metadata": {
    "collapsed": true
   },
   "outputs": [],
   "source": [
    "totcounts = counts.sum()"
   ]
  },
  {
   "cell_type": "markdown",
   "metadata": {},
   "source": [
    "## compute \"citation quality\" as citations / day given a PMID\n",
    "\n",
    "reset kernel before beginning so code can easily be reused"
   ]
  },
  {
   "cell_type": "code",
   "execution_count": 28,
   "metadata": {
    "collapsed": false
   },
   "outputs": [],
   "source": [
    "import numpy as np\n",
    "counts = [13027, 34108, 33621, 34843, 37047, 30559, 22854, 18040, 16354, 13309, 11530, 8719, 6640, 5484, 5449, 4666, 5021, 3330, 3152, 2689, 3257, 2887, 1743, 1852, 1591, 1778, 1336, 773, 1851, 491, 396, 1063, 1589, 338, 407, 922, 623, 406, 128, 457, 999, 677, 410, 190, 73, 492, 535, 423, 601, 47, 449, 175, 53, 43, 363, 572, 38, 497, 507, 39, 406, 27, 150, 22, 139, 30, 182, 24, 410, 24, 22, 553, 19, 18, 499, 12, 397, 20, 14, 19, 25, 15, 19, 18, 9, 14, 250, 9, 7, 10, 381, 9, 10, 7, 5, 327, 13, 7, 9, 7, 389, 9, 7, 6, 12, 277, 8, 6, 4, 6, 7, 72, 1, 5, 6, 5, 5, 38, 5, 4, 4, 6, 7, 5, 1, 144, 4, 6, 0, 6, 1, 4, 1, 179, 3, 3, 7, 1, 2, 2, 2, 1, 135, 1, 4, 4, 3, 2, 5, 5, 1, 5, 1, 101, 4, 3, 2, 2, 0, 1, 3, 3, 2, 3, 4, 1, 133, 3, 1, 3, 0, 0, 2, 2, 3, 3, 2, 1, 3, 3, 3, 99, 3, 1, 2, 1, 2, 5, 1, 0, 2, 3, 2, 0, 2, 1, 3, 2, 0, 1]\n",
    "sumcounts = 347499.\n",
    "div = [ 0. , 0.0005, 0.001 , 0.0015, 0.002 , 0.0025, 0.003 , 0.0035, 0.004 , 0.0045, 0.005 , 0.0055, 0.006 , 0.0065, 0.007 , 0.0075, 0.008 , 0.0085, 0.009 , 0.0095, 0.01 , 0.0105, 0.011 , 0.0115, 0.012 , 0.0125, 0.013 , 0.0135, 0.014 , 0.0145, 0.015 , 0.0155, 0.016 , 0.0165, 0.017 , 0.0175, 0.018 , 0.0185, 0.019 , 0.0195, 0.02 , 0.0205, 0.021 , 0.0215, 0.022 , 0.0225, 0.023 , 0.0235, 0.024 , 0.0245, 0.025 , 0.0255, 0.026 , 0.0265, 0.027 , 0.0275, 0.028 , 0.0285, 0.029 , 0.0295, 0.03 , 0.0305, 0.031 , 0.0315, 0.032 , 0.0325, 0.033 , 0.0335, 0.034 , 0.0345, 0.035 , 0.0355, 0.036 , 0.0365, 0.037 , 0.0375, 0.038 , 0.0385, 0.039 , 0.0395, 0.04 , 0.0405, 0.041 , 0.0415, 0.042 , 0.0425, 0.043 , 0.0435, 0.044 , 0.0445, 0.045 , 0.0455, 0.046 , 0.0465, 0.047 , 0.0475, 0.048 , 0.0485, 0.049 , 0.0495, 0.05 , 0.0505, 0.051 , 0.0515, 0.052 , 0.0525, 0.053 , 0.0535, 0.054 , 0.0545, 0.055 , 0.0555, 0.056 , 0.0565, 0.057 , 0.0575, 0.058 , 0.0585, 0.059 , 0.0595, 0.06 , 0.0605, 0.061 , 0.0615, 0.062 , 0.0625, 0.063 , 0.0635, 0.064 , 0.0645, 0.065 , 0.0655, 0.066 , 0.0665, 0.067 , 0.0675, 0.068 , 0.0685, 0.069 , 0.0695, 0.07 , 0.0705, 0.071 , 0.0715, 0.072 , 0.0725, 0.073 , 0.0735, 0.074 , 0.0745, 0.075 , 0.0755, 0.076 , 0.0765, 0.077 , 0.0775, 0.078 , 0.0785, 0.079 , 0.0795, 0.08 , 0.0805, 0.081 , 0.0815, 0.082 , 0.0825, 0.083 , 0.0835, 0.084 , 0.0845, 0.085 , 0.0855, 0.086 , 0.0865, 0.087 , 0.0875, 0.088 , 0.0885, 0.089 , 0.0895, 0.09 , 0.0905, 0.091 , 0.0915, 0.092 , 0.0925, 0.093 , 0.0935, 0.094 , 0.0945, 0.095 , 0.0955, 0.096 , 0.0965, 0.097 , 0.0975, 0.098 , 0.0985, 0.099 , 0.0995, 0.1 ]"
   ]
  },
  {
   "cell_type": "code",
   "execution_count": 31,
   "metadata": {
    "collapsed": false
   },
   "outputs": [],
   "source": [
    "import sqlite3\n",
    "import datetime\n",
    "conng = sqlite3.connect('pmcv1-graph.db')  # CHANGE TO v2 and rerun!\n",
    "cg = conng.cursor()\n",
    "connf = sqlite3.connect('pmcv2-full.db') \n",
    "cf = connf.cursor()"
   ]
  },
  {
   "cell_type": "code",
   "execution_count": 61,
   "metadata": {
    "collapsed": false
   },
   "outputs": [
    {
     "name": "stdout",
     "output_type": "stream",
     "text": [
      "20191640\n",
      "percentile: 13.5640678103\n"
     ]
    }
   ],
   "source": [
    "cf.execute('SELECT pmid FROM meta ORDER BY RANDOM() LIMIT 1')\n",
    "pmid = cf.fetchone()[0]\n",
    "print pmid\n",
    "#pmid = 26938165\n",
    "cf.execute('''SELECT pubdate FROM meta WHERE pmid = ? ''', [pmid])\n",
    "date = cf.fetchone()[0]\n",
    "date = datetime.date(int(date[0:4]), int(date[5:7]), int(date[8:10]))\n",
    "daysout = abs((date - datetime.date(2016,6,1)).days) # days between pub and data being fetched\n",
    "if daysout <= 0:\n",
    "    pass #return median value?\n",
    "else:\n",
    "    cg.execute('''SELECT incites FROM cites WHERE pmid = ? ''', [pmid])\n",
    "    incites = len(cg.fetchone()[0].split(','))\n",
    "    citeratio = incites / float(daysout)\n",
    "# lookup in histogram\n",
    "for i, division in enumerate(div):\n",
    "    if citeratio < division:\n",
    "        print \"percentile: {}\".format(np.array(counts[0:i+1]).sum() / sumcounts * 100)\n",
    "        break"
   ]
  },
  {
   "cell_type": "code",
   "execution_count": 63,
   "metadata": {
    "collapsed": true
   },
   "outputs": [],
   "source": [
    "# as function\n",
    "import numpy as np\n",
    "import datetime\n",
    "\n",
    "def incitepercentile(pmid, fullcursor, graphcursor): \n",
    "    counts = [13027, 34108, 33621, 34843, 37047, 30559, 22854, 18040, 16354, 13309, 11530, 8719, 6640, 5484, 5449, 4666, 5021, 3330, 3152, 2689, 3257, 2887, 1743, 1852, 1591, 1778, 1336, 773, 1851, 491, 396, 1063, 1589, 338, 407, 922, 623, 406, 128, 457, 999, 677, 410, 190, 73, 492, 535, 423, 601, 47, 449, 175, 53, 43, 363, 572, 38, 497, 507, 39, 406, 27, 150, 22, 139, 30, 182, 24, 410, 24, 22, 553, 19, 18, 499, 12, 397, 20, 14, 19, 25, 15, 19, 18, 9, 14, 250, 9, 7, 10, 381, 9, 10, 7, 5, 327, 13, 7, 9, 7, 389, 9, 7, 6, 12, 277, 8, 6, 4, 6, 7, 72, 1, 5, 6, 5, 5, 38, 5, 4, 4, 6, 7, 5, 1, 144, 4, 6, 0, 6, 1, 4, 1, 179, 3, 3, 7, 1, 2, 2, 2, 1, 135, 1, 4, 4, 3, 2, 5, 5, 1, 5, 1, 101, 4, 3, 2, 2, 0, 1, 3, 3, 2, 3, 4, 1, 133, 3, 1, 3, 0, 0, 2, 2, 3, 3, 2, 1, 3, 3, 3, 99, 3, 1, 2, 1, 2, 5, 1, 0, 2, 3, 2, 0, 2, 1, 3, 2, 0, 1]\n",
    "    sumcounts = 347499.\n",
    "    div = [ 0. , 0.0005, 0.001 , 0.0015, 0.002 , 0.0025, 0.003 , 0.0035, 0.004 , 0.0045, 0.005 , 0.0055, 0.006 , 0.0065, 0.007 , 0.0075, 0.008 , 0.0085, 0.009 , 0.0095, 0.01 , 0.0105, 0.011 , 0.0115, 0.012 , 0.0125, 0.013 , 0.0135, 0.014 , 0.0145, 0.015 , 0.0155, 0.016 , 0.0165, 0.017 , 0.0175, 0.018 , 0.0185, 0.019 , 0.0195, 0.02 , 0.0205, 0.021 , 0.0215, 0.022 , 0.0225, 0.023 , 0.0235, 0.024 , 0.0245, 0.025 , 0.0255, 0.026 , 0.0265, 0.027 , 0.0275, 0.028 , 0.0285, 0.029 , 0.0295, 0.03 , 0.0305, 0.031 , 0.0315, 0.032 , 0.0325, 0.033 , 0.0335, 0.034 , 0.0345, 0.035 , 0.0355, 0.036 , 0.0365, 0.037 , 0.0375, 0.038 , 0.0385, 0.039 , 0.0395, 0.04 , 0.0405, 0.041 , 0.0415, 0.042 , 0.0425, 0.043 , 0.0435, 0.044 , 0.0445, 0.045 , 0.0455, 0.046 , 0.0465, 0.047 , 0.0475, 0.048 , 0.0485, 0.049 , 0.0495, 0.05 , 0.0505, 0.051 , 0.0515, 0.052 , 0.0525, 0.053 , 0.0535, 0.054 , 0.0545, 0.055 , 0.0555, 0.056 , 0.0565, 0.057 , 0.0575, 0.058 , 0.0585, 0.059 , 0.0595, 0.06 , 0.0605, 0.061 , 0.0615, 0.062 , 0.0625, 0.063 , 0.0635, 0.064 , 0.0645, 0.065 , 0.0655, 0.066 , 0.0665, 0.067 , 0.0675, 0.068 , 0.0685, 0.069 , 0.0695, 0.07 , 0.0705, 0.071 , 0.0715, 0.072 , 0.0725, 0.073 , 0.0735, 0.074 , 0.0745, 0.075 , 0.0755, 0.076 , 0.0765, 0.077 , 0.0775, 0.078 , 0.0785, 0.079 , 0.0795, 0.08 , 0.0805, 0.081 , 0.0815, 0.082 , 0.0825, 0.083 , 0.0835, 0.084 , 0.0845, 0.085 , 0.0855, 0.086 , 0.0865, 0.087 , 0.0875, 0.088 , 0.0885, 0.089 , 0.0895, 0.09 , 0.0905, 0.091 , 0.0915, 0.092 , 0.0925, 0.093 , 0.0935, 0.094 , 0.0945, 0.095 , 0.0955, 0.096 , 0.0965, 0.097 , 0.0975, 0.098 , 0.0985, 0.099 , 0.0995, 0.1 ]\n",
    "    fullcursor.execute('''SELECT pubdate FROM meta WHERE pmid = ? ''', [pmid])\n",
    "    date = fullcursor.fetchone()[0]\n",
    "    date = datetime.date(int(date[0:4]), int(date[5:7]), int(date[8:10]))\n",
    "    daysout = abs((date - datetime.date(2016,6,1)).days) # days between pub and data being fetched\n",
    "    if daysout <= 0:\n",
    "        return 0\n",
    "    else:\n",
    "        graphcursor.execute('''SELECT incites FROM cites WHERE pmid = ? ''', [pmid])\n",
    "        incites = len(cg.fetchone()[0].split(','))\n",
    "        citeratio = incites / float(daysout)\n",
    "    # lookup in histogram\n",
    "    for i, division in enumerate(div):\n",
    "        if citeratio < division:\n",
    "            return np.array(counts[0:i+1]).sum() / sumcounts * 100"
   ]
  },
  {
   "cell_type": "code",
   "execution_count": 64,
   "metadata": {
    "collapsed": false
   },
   "outputs": [
    {
     "data": {
      "text/plain": [
       "13.56406781026708"
      ]
     },
     "execution_count": 64,
     "metadata": {},
     "output_type": "execute_result"
    }
   ],
   "source": [
    "incitepercentile(20191640, cf, cg)"
   ]
  },
  {
   "cell_type": "markdown",
   "metadata": {},
   "source": [
    "# \"quality\" of in-cites. how highly cited are the in cites? \n",
    "\n",
    "could also examine this in terms of how highly cited the in-citer's authors are, but will leave this as future work\n",
    "\n",
    "To consider: how to address that very highly cited in-cites should count for a lot? 3 20%tile incites for one paper shouldn't look as good as 1 60%tile incite for another paper. Need to weight highly cited papers more\n",
    "\n",
    "For now, will simply return mean quality"
   ]
  },
  {
   "cell_type": "code",
   "execution_count": null,
   "metadata": {
    "collapsed": true
   },
   "outputs": [],
   "source": [
    "# go through each in cite - how high quality are the incites\n",
    "# use baysian smoothing to address papers with low citation counts\n",
    "# -> add 5 average quality cites to every cite before computing metric"
   ]
  },
  {
   "cell_type": "code",
   "execution_count": 1,
   "metadata": {
    "collapsed": false
   },
   "outputs": [],
   "source": [
    "import sqlite3\n",
    "conng = sqlite3.connect('pmcv1-graph.db')  # CHANGE TO v2 and rerun!\n",
    "cg = conng.cursor()\n",
    "connf = sqlite3.connect('pmcv2-full.db') \n",
    "cf = connf.cursor()"
   ]
  },
  {
   "cell_type": "code",
   "execution_count": 29,
   "metadata": {
    "collapsed": true
   },
   "outputs": [],
   "source": [
    "import numpy as np\n",
    "import datetime\n",
    "\n",
    "def incitepercentile(pmid, fullcursor, graphcursor): \n",
    "    counts = [13027, 34108, 33621, 34843, 37047, 30559, 22854, 18040, 16354, 13309, 11530, 8719, 6640, 5484, 5449, 4666, 5021, 3330, 3152, 2689, 3257, 2887, 1743, 1852, 1591, 1778, 1336, 773, 1851, 491, 396, 1063, 1589, 338, 407, 922, 623, 406, 128, 457, 999, 677, 410, 190, 73, 492, 535, 423, 601, 47, 449, 175, 53, 43, 363, 572, 38, 497, 507, 39, 406, 27, 150, 22, 139, 30, 182, 24, 410, 24, 22, 553, 19, 18, 499, 12, 397, 20, 14, 19, 25, 15, 19, 18, 9, 14, 250, 9, 7, 10, 381, 9, 10, 7, 5, 327, 13, 7, 9, 7, 389, 9, 7, 6, 12, 277, 8, 6, 4, 6, 7, 72, 1, 5, 6, 5, 5, 38, 5, 4, 4, 6, 7, 5, 1, 144, 4, 6, 0, 6, 1, 4, 1, 179, 3, 3, 7, 1, 2, 2, 2, 1, 135, 1, 4, 4, 3, 2, 5, 5, 1, 5, 1, 101, 4, 3, 2, 2, 0, 1, 3, 3, 2, 3, 4, 1, 133, 3, 1, 3, 0, 0, 2, 2, 3, 3, 2, 1, 3, 3, 3, 99, 3, 1, 2, 1, 2, 5, 1, 0, 2, 3, 2, 0, 2, 1, 3, 2, 0, 1]\n",
    "    sumcounts = 347499.\n",
    "    div = [ 0. , 0.0005, 0.001 , 0.0015, 0.002 , 0.0025, 0.003 , 0.0035, 0.004 , 0.0045, 0.005 , 0.0055, 0.006 , 0.0065, 0.007 , 0.0075, 0.008 , 0.0085, 0.009 , 0.0095, 0.01 , 0.0105, 0.011 , 0.0115, 0.012 , 0.0125, 0.013 , 0.0135, 0.014 , 0.0145, 0.015 , 0.0155, 0.016 , 0.0165, 0.017 , 0.0175, 0.018 , 0.0185, 0.019 , 0.0195, 0.02 , 0.0205, 0.021 , 0.0215, 0.022 , 0.0225, 0.023 , 0.0235, 0.024 , 0.0245, 0.025 , 0.0255, 0.026 , 0.0265, 0.027 , 0.0275, 0.028 , 0.0285, 0.029 , 0.0295, 0.03 , 0.0305, 0.031 , 0.0315, 0.032 , 0.0325, 0.033 , 0.0335, 0.034 , 0.0345, 0.035 , 0.0355, 0.036 , 0.0365, 0.037 , 0.0375, 0.038 , 0.0385, 0.039 , 0.0395, 0.04 , 0.0405, 0.041 , 0.0415, 0.042 , 0.0425, 0.043 , 0.0435, 0.044 , 0.0445, 0.045 , 0.0455, 0.046 , 0.0465, 0.047 , 0.0475, 0.048 , 0.0485, 0.049 , 0.0495, 0.05 , 0.0505, 0.051 , 0.0515, 0.052 , 0.0525, 0.053 , 0.0535, 0.054 , 0.0545, 0.055 , 0.0555, 0.056 , 0.0565, 0.057 , 0.0575, 0.058 , 0.0585, 0.059 , 0.0595, 0.06 , 0.0605, 0.061 , 0.0615, 0.062 , 0.0625, 0.063 , 0.0635, 0.064 , 0.0645, 0.065 , 0.0655, 0.066 , 0.0665, 0.067 , 0.0675, 0.068 , 0.0685, 0.069 , 0.0695, 0.07 , 0.0705, 0.071 , 0.0715, 0.072 , 0.0725, 0.073 , 0.0735, 0.074 , 0.0745, 0.075 , 0.0755, 0.076 , 0.0765, 0.077 , 0.0775, 0.078 , 0.0785, 0.079 , 0.0795, 0.08 , 0.0805, 0.081 , 0.0815, 0.082 , 0.0825, 0.083 , 0.0835, 0.084 , 0.0845, 0.085 , 0.0855, 0.086 , 0.0865, 0.087 , 0.0875, 0.088 , 0.0885, 0.089 , 0.0895, 0.09 , 0.0905, 0.091 , 0.0915, 0.092 , 0.0925, 0.093 , 0.0935, 0.094 , 0.0945, 0.095 , 0.0955, 0.096 , 0.0965, 0.097 , 0.0975, 0.098 , 0.0985, 0.099 , 0.0995, 0.1 ]\n",
    "    fullcursor.execute('''SELECT pubdate FROM meta WHERE pmid = ? ''', [pmid])\n",
    "    date = fullcursor.fetchone()[0]\n",
    "    date = datetime.date(int(date[0:4]), int(date[5:7]), int(date[8:10]))\n",
    "    daysout = abs((date - datetime.date(2016,6,1)).days) # days between pub and data being fetched\n",
    "    if daysout <= 0:\n",
    "        return 0\n",
    "    else:\n",
    "        graphcursor.execute('''SELECT incites FROM cites WHERE pmid = ? ''', [pmid])\n",
    "        incites = len(cg.fetchone()[0].split(','))\n",
    "        citeratio = incites / float(daysout)\n",
    "    # lookup in histogram\n",
    "    for i, division in enumerate(div):\n",
    "        if citeratio < division:\n",
    "            return np.array(counts[0:i+1]).sum() / sumcounts * 100\n",
    "\n",
    "def incitequalityindex(pmid, fullcursor, graphcursor):\n",
    "    graphcursor.execute('''SELECT incites FROM cites WHERE pmid = ?''', [pmid])\n",
    "    try:\n",
    "        incites = map(int, graphcursor.fetchall()[0][0].split(\",\"))\n",
    "    except ValueError: # no incites in db for this pub\n",
    "        return 69.5\n",
    "    results = []\n",
    "    for cite in incites:\n",
    "        try:\n",
    "            result = incitepercentile(cite, fullcursor, graphcursor)\n",
    "        except TypeError: # issue with date\n",
    "            result = None\n",
    "        if result != None:\n",
    "            results.append(result)\n",
    "    if np.isnan(np.array(results).mean()):\n",
    "        return 69.5\n",
    "    return np.array(results).mean()"
   ]
  },
  {
   "cell_type": "code",
   "execution_count": 5,
   "metadata": {
    "collapsed": false
   },
   "outputs": [
    {
     "data": {
      "text/plain": [
       "75.78813176440795"
      ]
     },
     "execution_count": 5,
     "metadata": {},
     "output_type": "execute_result"
    }
   ],
   "source": [
    "incitequalityindex(25901944, cf, cg)"
   ]
  },
  {
   "cell_type": "code",
   "execution_count": 31,
   "metadata": {
    "collapsed": false
   },
   "outputs": [],
   "source": [
    "# find mean incitequalityindex\n",
    "cf.execute('''SELECT DISTINCT pmid FROM meta''')\n",
    "pmids = map(lambda x: x[0], cf.fetchall())\n",
    "globalincitequality = []\n",
    "for pmid in pmids:\n",
    "    result = incitequalityindex(pmid, cf, cg)\n",
    "    if result != 69.5:\n",
    "        globalincitequality.append(result)"
   ]
  },
  {
   "cell_type": "code",
   "execution_count": 34,
   "metadata": {
    "collapsed": false
   },
   "outputs": [
    {
     "data": {
      "text/html": [
       "<div>\n",
       "<table border=\"1\" class=\"dataframe\">\n",
       "  <thead>\n",
       "    <tr style=\"text-align: right;\">\n",
       "      <th></th>\n",
       "      <th>0</th>\n",
       "    </tr>\n",
       "  </thead>\n",
       "  <tbody>\n",
       "    <tr>\n",
       "      <th>count</th>\n",
       "      <td>123965.000000</td>\n",
       "    </tr>\n",
       "    <tr>\n",
       "      <th>mean</th>\n",
       "      <td>69.548052</td>\n",
       "    </tr>\n",
       "    <tr>\n",
       "      <th>std</th>\n",
       "      <td>18.229639</td>\n",
       "    </tr>\n",
       "    <tr>\n",
       "      <th>min</th>\n",
       "      <td>0.000000</td>\n",
       "    </tr>\n",
       "    <tr>\n",
       "      <th>25%</th>\n",
       "      <td>59.297725</td>\n",
       "    </tr>\n",
       "    <tr>\n",
       "      <th>50%</th>\n",
       "      <td>71.473388</td>\n",
       "    </tr>\n",
       "    <tr>\n",
       "      <th>75%</th>\n",
       "      <td>83.103453</td>\n",
       "    </tr>\n",
       "    <tr>\n",
       "      <th>max</th>\n",
       "      <td>99.991942</td>\n",
       "    </tr>\n",
       "  </tbody>\n",
       "</table>\n",
       "</div>"
      ],
      "text/plain": [
       "                   0\n",
       "count  123965.000000\n",
       "mean       69.548052\n",
       "std        18.229639\n",
       "min         0.000000\n",
       "25%        59.297725\n",
       "50%        71.473388\n",
       "75%        83.103453\n",
       "max        99.991942"
      ]
     },
     "execution_count": 34,
     "metadata": {},
     "output_type": "execute_result"
    }
   ],
   "source": [
    "import pandas as pd\n",
    "pd.DataFrame(globalincitequality).describe()"
   ]
  },
  {
   "cell_type": "code",
   "execution_count": null,
   "metadata": {
    "collapsed": true
   },
   "outputs": [],
   "source": [
    "# so center value should be 69.5"
   ]
  },
  {
   "cell_type": "code",
   "execution_count": null,
   "metadata": {
    "collapsed": true
   },
   "outputs": [],
   "source": []
  },
  {
   "cell_type": "markdown",
   "metadata": {},
   "source": [
    "# author self-citation index\n",
    "\n",
    "unclear what the source of error is here, return to this later"
   ]
  },
  {
   "cell_type": "code",
   "execution_count": 1,
   "metadata": {
    "collapsed": true
   },
   "outputs": [],
   "source": [
    "import sqlite3\n",
    "conng = sqlite3.connect('pmcv1-graph.db')  # CHANGE TO v2 and rerun!\n",
    "cg = conng.cursor()\n",
    "connf = sqlite3.connect('pmcv2-full.db') \n",
    "cf = connf.cursor()"
   ]
  },
  {
   "cell_type": "code",
   "execution_count": 40,
   "metadata": {
    "collapsed": false
   },
   "outputs": [],
   "source": [
    "def selfcitesperpub(author, fullcursor, graphcursor):\n",
    "    fullcursor.execute('''SELECT DISTINCT pmid FROM authors WHERE abbr = ?''', [author])\n",
    "    authorspapers = set(map(lambda x: x[0], fullcursor.fetchall()))\n",
    "    selfcites = 0.\n",
    "    pubs = len(authorspapers)\n",
    "    for pmid in authorspapers:\n",
    "        graphcursor.execute('''SELECT outcites FROM cites WHERE pmid = ?''', [pmid])\n",
    "        outcites = set(map(lambda x: x[0], graphcursor.fetchall()))\n",
    "        selfcites += len(authorspapers.intersection(outcites))\n",
    "    return selfcites / float(pubs)"
   ]
  },
  {
   "cell_type": "code",
   "execution_count": 31,
   "metadata": {
    "collapsed": false
   },
   "outputs": [
    {
     "data": {
      "text/plain": [
       "0.0"
      ]
     },
     "execution_count": 31,
     "metadata": {},
     "output_type": "execute_result"
    }
   ],
   "source": [
    "selfcitesperpub(u'kosukeyoshihara', cf, cg)"
   ]
  },
  {
   "cell_type": "code",
   "execution_count": 35,
   "metadata": {
    "collapsed": false
   },
   "outputs": [],
   "source": [
    "cf.execute('''SELECT DISTINCT abbr FROM authors''')\n",
    "allauthors = map(lambda x: x[0], cf.fetchall())"
   ]
  },
  {
   "cell_type": "code",
   "execution_count": 37,
   "metadata": {
    "collapsed": false
   },
   "outputs": [
    {
     "name": "stdout",
     "output_type": "stream",
     "text": [
      "CPU times: user 37 s, sys: 25.7 s, total: 1min 2s\n",
      "Wall time: 1min 2s\n"
     ]
    }
   ],
   "source": [
    "selfcitesglobal = []\n",
    "%time for author in allauthors: selfcitesglobal.append(selfcitesperpub(author, cf, cg))"
   ]
  },
  {
   "cell_type": "code",
   "execution_count": 38,
   "metadata": {
    "collapsed": true
   },
   "outputs": [],
   "source": [
    "#plots\n",
    "%matplotlib inline\n",
    "import matplotlib.pyplot as plt\n",
    "import numpy as np\n",
    "import pandas as pd"
   ]
  },
  {
   "cell_type": "code",
   "execution_count": 39,
   "metadata": {
    "collapsed": false
   },
   "outputs": [
    {
     "data": {
      "text/html": [
       "<div>\n",
       "<table border=\"1\" class=\"dataframe\">\n",
       "  <thead>\n",
       "    <tr style=\"text-align: right;\">\n",
       "      <th></th>\n",
       "      <th>0</th>\n",
       "    </tr>\n",
       "  </thead>\n",
       "  <tbody>\n",
       "    <tr>\n",
       "      <th>count</th>\n",
       "      <td>1236363.0</td>\n",
       "    </tr>\n",
       "    <tr>\n",
       "      <th>mean</th>\n",
       "      <td>0.0</td>\n",
       "    </tr>\n",
       "    <tr>\n",
       "      <th>std</th>\n",
       "      <td>0.0</td>\n",
       "    </tr>\n",
       "    <tr>\n",
       "      <th>min</th>\n",
       "      <td>0.0</td>\n",
       "    </tr>\n",
       "    <tr>\n",
       "      <th>25%</th>\n",
       "      <td>0.0</td>\n",
       "    </tr>\n",
       "    <tr>\n",
       "      <th>50%</th>\n",
       "      <td>0.0</td>\n",
       "    </tr>\n",
       "    <tr>\n",
       "      <th>75%</th>\n",
       "      <td>0.0</td>\n",
       "    </tr>\n",
       "    <tr>\n",
       "      <th>max</th>\n",
       "      <td>0.0</td>\n",
       "    </tr>\n",
       "  </tbody>\n",
       "</table>\n",
       "</div>"
      ],
      "text/plain": [
       "               0\n",
       "count  1236363.0\n",
       "mean         0.0\n",
       "std          0.0\n",
       "min          0.0\n",
       "25%          0.0\n",
       "50%          0.0\n",
       "75%          0.0\n",
       "max          0.0"
      ]
     },
     "execution_count": 39,
     "metadata": {},
     "output_type": "execute_result"
    }
   ],
   "source": [
    "pd.DataFrame(selfcitesglobal).describe()"
   ]
  },
  {
   "cell_type": "code",
   "execution_count": null,
   "metadata": {
    "collapsed": true
   },
   "outputs": [],
   "source": []
  }
 ],
 "metadata": {
  "kernelspec": {
   "display_name": "Python 2",
   "language": "python",
   "name": "python2"
  },
  "language_info": {
   "codemirror_mode": {
    "name": "ipython",
    "version": 2
   },
   "file_extension": ".py",
   "mimetype": "text/x-python",
   "name": "python",
   "nbconvert_exporter": "python",
   "pygments_lexer": "ipython2",
   "version": "2.7.11"
  }
 },
 "nbformat": 4,
 "nbformat_minor": 0
}
