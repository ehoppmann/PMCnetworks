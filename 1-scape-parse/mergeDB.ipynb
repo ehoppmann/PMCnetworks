{
 "cells": [
  {
   "cell_type": "code",
   "execution_count": null,
   "metadata": {
    "collapsed": false
   },
   "outputs": [],
   "source": [
    "import sqlite3\n",
    "conn = sqlite3.connect('pmcv1-full.db')\n",
    "c = conn.cursor()\n",
    "#create tables\n",
    "c.execute('''CREATE TABLE refs (pmid integer, refpmid integer)''')\n",
    "c.execute('''CREATE TABLE pmcidmap (pmid integer, pmcid integer)''')\n",
    "c.execute('''CREATE TABLE meta (pmid integer, title text, journal_id text)''')\n",
    "c.execute('''CREATE TABLE authors (pmid integer, authnum integer, fn text, ln text, afil text)''')\n",
    "c.execute('''CREATE TABLE keywords (pmid integer, keyword text)''')\n",
    "c.execute('''CREATE TABLE abstracts (pmid integer, abstract text)''')\n",
    "#merge file 1\n",
    "c.execute('''ATTACH DATABASE 'pmcv1AB-afil.db' AS 'extdb' ''')\n",
    "c.execute('''INSERT INTO main.refs SELECT * FROM extdb.refs''')\n",
    "c.execute('''INSERT INTO main.pmcidmap SELECT * FROM extdb.pmcidmap''')\n",
    "c.execute('''INSERT INTO main.meta SELECT * FROM extdb.meta''')\n",
    "c.execute('''INSERT INTO main.authors SELECT * FROM extdb.authors''')\n",
    "c.execute('''INSERT INTO main.keywords SELECT * FROM extdb.keywords''')\n",
    "c.execute('''INSERT INTO main.abstracts SELECT * FROM extdb.abstracts''')\n",
    "c.execute('''DETACH DATABASE 'extdb' ''')\n",
    "\n",
    "#merge file 2\n",
    "c.execute('''ATTACH DATABASE 'pmcv1CH-afil.db' AS 'extdb' ''')\n",
    "c.execute('''INSERT INTO main.refs SELECT * FROM extdb.refs''')\n",
    "c.execute('''INSERT INTO main.pmcidmap SELECT * FROM extdb.pmcidmap''')\n",
    "c.execute('''INSERT INTO main.meta SELECT * FROM extdb.meta''')\n",
    "c.execute('''INSERT INTO main.authors SELECT * FROM extdb.authors''')\n",
    "c.execute('''INSERT INTO main.keywords SELECT * FROM extdb.keywords''')\n",
    "c.execute('''INSERT INTO main.abstracts SELECT * FROM extdb.abstracts''')\n",
    "c.execute('''DETACH DATABASE 'extdb' ''')\n",
    "\n",
    "#merge file 3\n",
    "c.execute('''ATTACH DATABASE 'pmcv1IN-afil.db' AS 'extdb' ''')\n",
    "c.execute('''INSERT INTO main.refs SELECT * FROM extdb.refs''')\n",
    "c.execute('''INSERT INTO main.pmcidmap SELECT * FROM extdb.pmcidmap''')\n",
    "c.execute('''INSERT INTO main.meta SELECT * FROM extdb.meta''')\n",
    "c.execute('''INSERT INTO main.authors SELECT * FROM extdb.authors''')\n",
    "c.execute('''INSERT INTO main.keywords SELECT * FROM extdb.keywords''')\n",
    "c.execute('''INSERT INTO main.abstracts SELECT * FROM extdb.abstracts''')\n",
    "c.execute('''DETACH DATABASE 'extdb' ''')\n",
    "\n",
    "#merge file 4\n",
    "c.execute('''ATTACH DATABASE 'pmcv1OZ-afil.db' AS 'extdb' ''')\n",
    "c.execute('''INSERT INTO main.refs SELECT * FROM extdb.refs''')\n",
    "c.execute('''INSERT INTO main.pmcidmap SELECT * FROM extdb.pmcidmap''')\n",
    "c.execute('''INSERT INTO main.meta SELECT * FROM extdb.meta''')\n",
    "c.execute('''INSERT INTO main.authors SELECT * FROM extdb.authors''')\n",
    "c.execute('''INSERT INTO main.keywords SELECT * FROM extdb.keywords''')\n",
    "c.execute('''INSERT INTO main.abstracts SELECT * FROM extdb.abstracts''')\n",
    "c.execute('''DETACH DATABASE 'extdb' ''')\n",
    "\n",
    "c.execute('''COMMIT''')\n",
    "c.close()"
   ]
  },
  {
   "cell_type": "code",
   "execution_count": null,
   "metadata": {
    "collapsed": true
   },
   "outputs": [],
   "source": [
    "c.close()"
   ]
  }
 ],
 "metadata": {
  "kernelspec": {
   "display_name": "Python 2",
   "language": "python",
   "name": "python2"
  },
  "language_info": {
   "codemirror_mode": {
    "name": "ipython",
    "version": 2
   },
   "file_extension": ".py",
   "mimetype": "text/x-python",
   "name": "python",
   "nbconvert_exporter": "python",
   "pygments_lexer": "ipython2",
   "version": "2.7.11"
  }
 },
 "nbformat": 4,
 "nbformat_minor": 0
}
