{
 "cells": [
  {
   "cell_type": "code",
   "execution_count": 1,
   "metadata": {
    "collapsed": true
   },
   "outputs": [],
   "source": [
    "import re\n",
    "import sqlite3\n",
    "conn = sqlite3.connect('pmcv3-full.db')\n",
    "c = conn.cursor()"
   ]
  },
  {
   "cell_type": "code",
   "execution_count": 2,
   "metadata": {
    "collapsed": true
   },
   "outputs": [],
   "source": [
    "c.execute('''SELECT pmid, abstract from abstracts''')\n",
    "abstracts = []\n",
    "pmids = []\n",
    "while True:\n",
    "    fetch = c.fetchone()\n",
    "    if fetch == None:\n",
    "        break\n",
    "    abstract = fetch[1]\n",
    "    pmids.append(fetch[0])\n",
    "    # Next line cleans seciton headings, e.g. Objectives, Results, etc., because these always appear like\n",
    "    # ObjectivesEmotion, ResultsDuring, BACKGROUNDInsulin-like and so on\n",
    "    if abstract != None:\n",
    "        abstract = re.sub(r'([A-Z]+[a-z]+)([A-Z][a-z]+)', r' \\2', abstract).lstrip()\n",
    "    else:\n",
    "        abstract = ''\n",
    "    abstracts.append(abstract)"
   ]
  },
  {
   "cell_type": "code",
   "execution_count": null,
   "metadata": {
    "collapsed": true
   },
   "outputs": [],
   "source": [
    "import nltk\n",
    "stopwords = nltk.corpus.stopwords.words('english')\n",
    "\n",
    "def tokenize_only(text):\n",
    "    tokens = [word.lower() for sent in nltk.sent_tokenize(text) for word in nltk.word_tokenize(sent)]\n",
    "    filtered_tokens = []\n",
    "    for token in tokens:\n",
    "        if re.search('[a-zA-Z]', token):\n",
    "            filtered_tokens.append(token)\n",
    "    return filtered_tokens"
   ]
  },
  {
   "cell_type": "code",
   "execution_count": null,
   "metadata": {
    "collapsed": true
   },
   "outputs": [],
   "source": [
    "from sklearn.feature_extraction.text import TfidfVectorizer\n",
    "tfidf_vectorizer = TfidfVectorizer(max_df=0.4, max_features=10000000,\n",
    "                                   min_df=1, stop_words=stopwords,\n",
    "                                   use_idf=True, tokenizer=tokenize_only, ngram_range=(1,2),\n",
    "                                   sublinear_tf=True)\n",
    "%time tfidf_matrix = tfidf_vectorizer.fit_transform(abstracts)\n",
    "print(tfidf_matrix.shape)"
   ]
  },
  {
   "cell_type": "code",
   "execution_count": 13,
   "metadata": {
    "collapsed": false
   },
   "outputs": [
    {
     "name": "stdout",
     "output_type": "stream",
     "text": [
      "(927541, 10000000)\n"
     ]
    }
   ],
   "source": [
    "from sklearn.metrics.pairwise import cosine_similarity\n",
    "print tfidf_matrix.shape"
   ]
  },
  {
   "cell_type": "code",
   "execution_count": 15,
   "metadata": {
    "collapsed": false
   },
   "outputs": [
    {
     "name": "stdout",
     "output_type": "stream",
     "text": [
      "CPU times: user 49.4 s, sys: 6.93 s, total: 56.4 s\n",
      "Wall time: 56.6 s\n"
     ]
    }
   ],
   "source": [
    "%time similar = cosine_similarity(tfidf_matrix[0], tfidf_matrix)"
   ]
  },
  {
   "cell_type": "code",
   "execution_count": 14,
   "metadata": {
    "collapsed": false
   },
   "outputs": [
    {
     "name": "stdout",
     "output_type": "stream",
     "text": [
      "1076\n"
     ]
    }
   ],
   "source": [
    "c.execute('''SELECT pmid FROM highlycitedpmids''')\n",
    "pmidlist = [entry[0] for entry in c.fetchall()]\n",
    "print len(pmidlist) #1076"
   ]
  },
  {
   "cell_type": "code",
   "execution_count": null,
   "metadata": {
    "collapsed": true
   },
   "outputs": [],
   "source": [
    "%%time\n",
    "similarpmids = []\n",
    "for pmid in pmidlist:\n",
    "    ix = pmids.index(pmid)\n",
    "    similar = cosine_similarity(tfidf_matrix[ix], tfidf_matrix)\n",
    "    similar = similar.argsort().flatten()[:-12:-1][1:] # top 10, excluding #1 since #1 is self\n",
    "    simlist = []\n",
    "    for entry in similar: simlist.append(pmids[entry])\n",
    "    similarpmids.append(simlist)"
   ]
  },
  {
   "cell_type": "code",
   "execution_count": 22,
   "metadata": {
    "collapsed": true
   },
   "outputs": [],
   "source": [
    "c.execute('''DROP TABLE similarpubs''')\n",
    "c.execute('''CREATE TABLE similarpubs (pmid integer, similar text, PRIMARY KEY (pmid))''')\n",
    "for i, entry in enumerate(similarpmids):\n",
    "    c.execute(\"INSERT INTO similarpubs (pmid, similar) VALUES (?, ?)\", (pmidlist[i], str(entry).strip('[]')))\n",
    "try:\n",
    "    c.execute('''COMMIT''')\n",
    "except:\n",
    "    pass"
   ]
  },
  {
   "cell_type": "code",
   "execution_count": null,
   "metadata": {
    "collapsed": true
   },
   "outputs": [],
   "source": []
  }
 ],
 "metadata": {
  "kernelspec": {
   "display_name": "Python 2",
   "language": "python",
   "name": "python2"
  },
  "language_info": {
   "codemirror_mode": {
    "name": "ipython",
    "version": 2
   },
   "file_extension": ".py",
   "mimetype": "text/x-python",
   "name": "python",
   "nbconvert_exporter": "python",
   "pygments_lexer": "ipython2",
   "version": "2.7.11"
  }
 },
 "nbformat": 4,
 "nbformat_minor": 0
}
